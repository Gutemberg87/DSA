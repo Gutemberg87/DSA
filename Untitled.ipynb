{
 "cells": [
  {
   "cell_type": "markdown",
   "id": "2b61dcf1",
   "metadata": {},
   "source": [
    "## Python Calculator "
   ]
  },
  {
   "cell_type": "code",
   "execution_count": 4,
   "id": "409a403d",
   "metadata": {},
   "outputs": [
    {
     "name": "stdout",
     "output_type": "stream",
     "text": [
      "Selecione a operação desejada:\n",
      "1 - Soma \n",
      "2 - Subtração\n",
      "3 - Multiplicação\n",
      "4 - Divisão\n",
      "Digite o código da operação: 1\n",
      "Digite o primeiro número: 45\n",
      "Digite o segundo número: 87\n",
      "45.0 + 87.0 = 132.0\n"
     ]
    }
   ],
   "source": [
    "resposta = 0\n",
    "print(\"Selecione a operação desejada:\\n\"\"1 - Soma \\n\"\"2 - Subtração\\n\"\"3 - Multiplicação\\n\"\"4 - Divisão\")\n",
    "codigo = float(input('Digite o código da operação: '))\n",
    "\n",
    "while (codigo < 1 or codigo > 4):\n",
    "    codigo = float(input(\"Código inválido, digite o código novamente: \"))\n",
    "    \n",
    "num_1 = float(input(\"Digite o primeiro número: \"))\n",
    "num_2 = float(input(\"Digite o segundo número: \"))\n",
    "\n",
    "if (codigo == 1):\n",
    "    resposta = num_1 + num_2\n",
    "    print (f\"{num_1} + {num_2} = {resposta}\" )\n",
    "    \n",
    "if (codigo == 2):\n",
    "    resposta = num_1 - num_2\n",
    "    print (f\"{num_1} + {num_2} = {resposta}\" )\n",
    "\n",
    "if (codigo == 3):\n",
    "    resposta = num_1 * num_2\n",
    "    print (f\"{num_1} + {num_2} = {resposta}\" )    \n",
    "\n",
    "if (codigo == 4):\n",
    "    resposta = num_1 / num_2\n",
    "    print (f\"{num_1} + {num_2} = {resposta}\" )    "
   ]
  },
  {
   "cell_type": "code",
   "execution_count": null,
   "id": "8f40d833",
   "metadata": {},
   "outputs": [],
   "source": []
  },
  {
   "cell_type": "code",
   "execution_count": null,
   "id": "99bb005a",
   "metadata": {},
   "outputs": [],
   "source": []
  }
 ],
 "metadata": {
  "kernelspec": {
   "display_name": "Python 3 (ipykernel)",
   "language": "python",
   "name": "python3"
  },
  "language_info": {
   "codemirror_mode": {
    "name": "ipython",
    "version": 3
   },
   "file_extension": ".py",
   "mimetype": "text/x-python",
   "name": "python",
   "nbconvert_exporter": "python",
   "pygments_lexer": "ipython3",
   "version": "3.9.7"
  }
 },
 "nbformat": 4,
 "nbformat_minor": 5
}
