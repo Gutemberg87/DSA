{
 "cells": [
  {
   "cell_type": "markdown",
   "id": "2350de7c",
   "metadata": {},
   "source": [
    "# <font color='blue'>Exercícios</font>"
   ]
  },
  {
   "cell_type": "markdown",
   "id": "8e736914",
   "metadata": {},
   "source": [
    "## 1 - Crie um código que impirma na tela todos os números pares até 25"
   ]
  },
  {
   "cell_type": "code",
   "execution_count": null,
   "id": "fdd20049",
   "metadata": {},
   "outputs": [],
   "source": [
    "for i in range(0,26):\n",
    "    if (i%2 == 0):\n",
    "        print(i)\n",
    "    "
   ]
  },
  {
   "cell_type": "markdown",
   "id": "ad179be7",
   "metadata": {},
   "source": [
    "## 2 - Crie um código que impirma na tela todos os números pares até 50"
   ]
  },
  {
   "cell_type": "code",
   "execution_count": null,
   "id": "f8e7e503",
   "metadata": {},
   "outputs": [],
   "source": [
    "for i in range(0,51):\n",
    "    if (i%2 == 0):\n",
    "        print(i)"
   ]
  },
  {
   "cell_type": "markdown",
   "id": "f80eccf5",
   "metadata": {},
   "source": [
    "## 3 - Faça um progrma em que o usuário digite uma senha...."
   ]
  },
  {
   "cell_type": "code",
   "execution_count": null,
   "id": "e27ecb5e",
   "metadata": {},
   "outputs": [],
   "source": [
    "senha1 = input ('digite uma senha: ')\n",
    "senha2 = input ('confirme a senha: ')\n",
    "\n",
    "while (senha1 != senha2):\n",
    "    print ('senhas não coincidem, confirme a senha novamente.' )\n",
    "    senha2 = input ('confirme a senha: ')\n",
    "\n",
    "print ('Senhas confirmadas!')    "
   ]
  },
  {
   "cell_type": "markdown",
   "id": "45b80702",
   "metadata": {},
   "source": [
    "## 4 - Faça um programa que conte de forma decrescente de 50 até 1"
   ]
  },
  {
   "cell_type": "code",
   "execution_count": null,
   "id": "8e3b5bd4",
   "metadata": {},
   "outputs": [],
   "source": [
    "numeros = [int(numero) for numero in range (1,51)]\n",
    "##Função sort ordena uma lista \n",
    "numeros.sort()  # Crescente\n",
    "numeros.sort(reverse=True)  # Decrescente\n",
    "print (numeros)"
   ]
  },
  {
   "cell_type": "markdown",
   "id": "37cea4ee",
   "metadata": {},
   "source": [
    "## 5 - Crie um programa que print o quadrado dele mesmo dos números pares\n"
   ]
  },
  {
   "cell_type": "code",
   "execution_count": null,
   "id": "13f1f4b6",
   "metadata": {},
   "outputs": [],
   "source": [
    "for i in range(0,11):\n",
    "    if (i%2 == 0):\n",
    "        doble_i = i**2\n",
    "        print(doble_i)\n",
    "    "
   ]
  },
  {
   "cell_type": "markdown",
   "id": "aea08276",
   "metadata": {},
   "source": [
    "## 6 - Faça um progrma que imprima na tela a tabuada do número que o usuário inserir ( de 1 até 10)\n"
   ]
  },
  {
   "cell_type": "code",
   "execution_count": null,
   "id": "0d8e738a",
   "metadata": {},
   "outputs": [],
   "source": [
    "num = float ( input('digite um número: '))\n",
    "for i in range(1,11):\n",
    "    print (numero * i)"
   ]
  },
  {
   "cell_type": "markdown",
   "id": "5eb49bce",
   "metadata": {},
   "source": [
    "## 7 - Faça um progrma que receba 8 números e mostre na tela quantos são ímpares e quantos são pares"
   ]
  },
  {
   "cell_type": "code",
   "execution_count": null,
   "id": "b5c4c6db",
   "metadata": {},
   "outputs": [],
   "source": [
    "count = 0\n",
    "par = 0\n",
    "impar = 0\n",
    "while (count < 8):   \n",
    "    nu = int (input (\"digite um número: \"))\n",
    "    if (nu%2 == 0):\n",
    "        par+=1\n",
    "    else:\n",
    "        impar+=1\n",
    "    count += 1\n",
    "print(\"a quantidade de números pares é de %d e a de números ímpares é de %d\" %(par,impar))    "
   ]
  },
  {
   "cell_type": "markdown",
   "id": "f08a9652",
   "metadata": {},
   "source": [
    "## 8 - Faça um programa que receba somente números entre 25 e 50. Caso o número inserido não  esteja nesse intervalo, deverá ser mostrada uma mensagem de erro ao usuário e pedir para que um novo número seja inserido até que a condição seja sastifeita. "
   ]
  },
  {
   "cell_type": "code",
   "execution_count": null,
   "id": "31b27f69",
   "metadata": {},
   "outputs": [],
   "source": [
    "numer_digi = float (input('digite um número: '))\n",
    "while (numer < 25 or numer >= 50):\n",
    "    numer_digi = float  (input('número não aceito. por favor, digite um número entre 25 e 50: '))"
   ]
  },
  {
   "cell_type": "markdown",
   "id": "bd55a29b",
   "metadata": {},
   "source": [
    "## 9 - Faça um programa que receba um número inteiro positivo e calcule seu fatorial"
   ]
  },
  {
   "cell_type": "code",
   "execution_count": null,
   "id": "e983fdbd",
   "metadata": {},
   "outputs": [],
   "source": []
  },
  {
   "cell_type": "markdown",
   "id": "81ac6822",
   "metadata": {},
   "source": [
    "## 10 - A sequência de Fibonacci é uma sequência de números inteiros onde cada termo subsequente corresponde a soma de dois anteriores. Faça um programa que mostre a sequência de Fibonacci dos valores entre 0 e 5000."
   ]
  },
  {
   "cell_type": "code",
   "execution_count": null,
   "id": "c0cdffb1",
   "metadata": {},
   "outputs": [],
   "source": []
  }
 ],
 "metadata": {
  "kernelspec": {
   "display_name": "Python 3 (ipykernel)",
   "language": "python",
   "name": "python3"
  },
  "language_info": {
   "codemirror_mode": {
    "name": "ipython",
    "version": 3
   },
   "file_extension": ".py",
   "mimetype": "text/x-python",
   "name": "python",
   "nbconvert_exporter": "python",
   "pygments_lexer": "ipython3",
   "version": "3.9.7"
  }
 },
 "nbformat": 4,
 "nbformat_minor": 5
}
