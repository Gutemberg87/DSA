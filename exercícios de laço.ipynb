{
 "cells": [
  {
   "cell_type": "markdown",
   "id": "2350de7c",
   "metadata": {},
   "source": [
    "# <font color='blue'>Exercícios</font>"
   ]
  },
  {
   "cell_type": "markdown",
   "id": "8e736914",
   "metadata": {},
   "source": [
    "## 1 - Crie um código que impirma na tela todos os números pares até 25"
   ]
  },
  {
   "cell_type": "code",
   "execution_count": null,
   "id": "fdd20049",
   "metadata": {},
   "outputs": [],
   "source": [
    "for i in range(0,26):\n",
    "    if (i%2 == 0):\n",
    "        print(i)\n",
    "    "
   ]
  },
  {
   "cell_type": "markdown",
   "id": "ad179be7",
   "metadata": {},
   "source": [
    "## 2 - Crie um código que impirma na tela todos os números pares até 50"
   ]
  },
  {
   "cell_type": "code",
   "execution_count": null,
   "id": "f8e7e503",
   "metadata": {},
   "outputs": [],
   "source": [
    "for i in range(0,51):\n",
    "    if (i%2 == 0):\n",
    "        print(i)"
   ]
  },
  {
   "cell_type": "markdown",
   "id": "f80eccf5",
   "metadata": {},
   "source": [
    "## 3 - Faça um progrma em que o usuário digite uma senha...."
   ]
  },
  {
   "cell_type": "code",
   "execution_count": null,
   "id": "e27ecb5e",
   "metadata": {},
   "outputs": [],
   "source": [
    "senha1 = input ('digite uma senha: ')\n",
    "senha2 = input ('confirme a senha: ')\n",
    "\n",
    "while (senha1 != senha2):\n",
    "    print ('senhas não coincidem, confirme a senha novamente.' )\n",
    "    senha2 = input ('confirme a senha: ')\n",
    "\n",
    "print ('Senhas confirmadas!')    "
   ]
  },
  {
   "cell_type": "markdown",
   "id": "45b80702",
   "metadata": {},
   "source": [
    "## 4 - Faça um programa que conte de forma decrescente de 50 até 1"
   ]
  },
  {
   "cell_type": "code",
   "execution_count": null,
   "id": "8e3b5bd4",
   "metadata": {},
   "outputs": [],
   "source": [
    "numeros = [int(numero) for numero in range (1,51)]\n",
    "##Função sort ordena uma lista \n",
    "numeros.sort()  # Crescente\n",
    "numeros.sort(reverse=True)  # Decrescente\n",
    "print (numeros)"
   ]
  },
  {
   "cell_type": "markdown",
   "id": "37cea4ee",
   "metadata": {},
   "source": [
    "## 5 - Crie um programa que print o quadrado dele mesmo dos números pares\n"
   ]
  },
  {
   "cell_type": "code",
   "execution_count": null,
   "id": "13f1f4b6",
   "metadata": {},
   "outputs": [],
   "source": [
    "for i in range(0,11):\n",
    "    if (i%2 == 0):\n",
    "        doble_i = i**2\n",
    "        print(doble_i)\n",
    "    "
   ]
  },
  {
   "cell_type": "code",
   "execution_count": null,
   "id": "5ca3ad14",
   "metadata": {},
   "outputs": [],
   "source": []
  }
 ],
 "metadata": {
  "kernelspec": {
   "display_name": "Python 3 (ipykernel)",
   "language": "python",
   "name": "python3"
  },
  "language_info": {
   "codemirror_mode": {
    "name": "ipython",
    "version": 3
   },
   "file_extension": ".py",
   "mimetype": "text/x-python",
   "name": "python",
   "nbconvert_exporter": "python",
   "pygments_lexer": "ipython3",
   "version": "3.9.7"
  }
 },
 "nbformat": 4,
 "nbformat_minor": 5
}
